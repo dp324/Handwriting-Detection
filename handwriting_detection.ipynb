{
 "cells": [
  {
   "cell_type": "markdown",
   "metadata": {},
   "source": [
    "## Installing libraries"
   ]
  },
  {
   "cell_type": "code",
   "execution_count": 1,
   "metadata": {
    "execution": {
     "iopub.execute_input": "2022-11-16T03:21:02.699154Z",
     "iopub.status.busy": "2022-11-16T03:21:02.698757Z",
     "iopub.status.idle": "2022-11-16T03:21:10.512527Z",
     "shell.execute_reply": "2022-11-16T03:21:10.511301Z",
     "shell.execute_reply.started": "2022-11-16T03:21:02.699069Z"
    }
   },
   "outputs": [],
   "source": [
    "import numpy as np\n",
    "import pandas as pd\n",
    "import cv2\n",
    "import matplotlib.pyplot as plt\n",
    "import seaborn as sns\n",
    "import os\n",
    "import scipy as sp\n",
    "import random\n",
    "import warnings\n",
    "import string\n",
    "import datetime\n",
    "warnings.filterwarnings(\"ignore\")\n",
    "%matplotlib inline\n",
    "\n",
    "import tensorflow as tf\n",
    "from keras import backend as K\n",
    "from keras.models import Model\n",
    "from keras.layers import Input, Conv2D, MaxPooling2D, Reshape, Bidirectional, LSTM, Dense, Lambda, Activation, BatchNormalization, Dropout\n",
    "from tensorflow.keras.optimizers import Adam"
   ]
  },
  {
   "cell_type": "markdown",
   "metadata": {},
   "source": [
    "## Loading, Viewing and Making Sense of Dataset\n",
    "\n",
    "We will now load the datasets, consisting of image files and the csv files. The datasets has been conveniently separated into train, validation and test sets."
   ]
  },
  {
   "cell_type": "code",
   "execution_count": 2,
   "metadata": {
    "execution": {
     "iopub.execute_input": "2022-11-16T03:21:14.644527Z",
     "iopub.status.busy": "2022-11-16T03:21:14.643912Z",
     "iopub.status.idle": "2022-11-16T03:21:15.149469Z",
     "shell.execute_reply": "2022-11-16T03:21:15.148110Z",
     "shell.execute_reply.started": "2022-11-16T03:21:14.644490Z"
    }
   },
   "outputs": [],
   "source": [
    "train_name = pd.read_csv('/kaggle/input/handwriting-recognition/written_name_train_v2.csv')\n",
    "test_name = pd.read_csv('/kaggle/input/handwriting-recognition/written_name_test_v2.csv')\n",
    "val_name = pd.read_csv('/kaggle/input/handwriting-recognition/written_name_validation_v2.csv')"
   ]
  },
  {
   "cell_type": "markdown",
   "metadata": {},
   "source": [
    "Let's visualize the headings of the csv files."
   ]
  },
  {
   "cell_type": "code",
   "execution_count": 3,
   "metadata": {
    "execution": {
     "iopub.execute_input": "2022-11-16T03:21:16.945759Z",
     "iopub.status.busy": "2022-11-16T03:21:16.944757Z",
     "iopub.status.idle": "2022-11-16T03:21:16.968610Z",
     "shell.execute_reply": "2022-11-16T03:21:16.967419Z",
     "shell.execute_reply.started": "2022-11-16T03:21:16.945722Z"
    }
   },
   "outputs": [
    {
     "data": {
      "text/html": [
       "<div>\n",
       "<style scoped>\n",
       "    .dataframe tbody tr th:only-of-type {\n",
       "        vertical-align: middle;\n",
       "    }\n",
       "\n",
       "    .dataframe tbody tr th {\n",
       "        vertical-align: top;\n",
       "    }\n",
       "\n",
       "    .dataframe thead th {\n",
       "        text-align: right;\n",
       "    }\n",
       "</style>\n",
       "<table border=\"1\" class=\"dataframe\">\n",
       "  <thead>\n",
       "    <tr style=\"text-align: right;\">\n",
       "      <th></th>\n",
       "      <th>FILENAME</th>\n",
       "      <th>IDENTITY</th>\n",
       "    </tr>\n",
       "  </thead>\n",
       "  <tbody>\n",
       "    <tr>\n",
       "      <th>0</th>\n",
       "      <td>TRAIN_00001.jpg</td>\n",
       "      <td>BALTHAZAR</td>\n",
       "    </tr>\n",
       "    <tr>\n",
       "      <th>1</th>\n",
       "      <td>TRAIN_00002.jpg</td>\n",
       "      <td>SIMON</td>\n",
       "    </tr>\n",
       "    <tr>\n",
       "      <th>2</th>\n",
       "      <td>TRAIN_00003.jpg</td>\n",
       "      <td>BENES</td>\n",
       "    </tr>\n",
       "    <tr>\n",
       "      <th>3</th>\n",
       "      <td>TRAIN_00004.jpg</td>\n",
       "      <td>LA LOVE</td>\n",
       "    </tr>\n",
       "    <tr>\n",
       "      <th>4</th>\n",
       "      <td>TRAIN_00005.jpg</td>\n",
       "      <td>DAPHNE</td>\n",
       "    </tr>\n",
       "  </tbody>\n",
       "</table>\n",
       "</div>"
      ],
      "text/plain": [
       "          FILENAME   IDENTITY\n",
       "0  TRAIN_00001.jpg  BALTHAZAR\n",
       "1  TRAIN_00002.jpg      SIMON\n",
       "2  TRAIN_00003.jpg      BENES\n",
       "3  TRAIN_00004.jpg    LA LOVE\n",
       "4  TRAIN_00005.jpg     DAPHNE"
      ]
     },
     "execution_count": 3,
     "metadata": {},
     "output_type": "execute_result"
    }
   ],
   "source": [
    "train_name.head()"
   ]
  },
  {
   "cell_type": "markdown",
   "metadata": {},
   "source": [
    "Next, we will see the descriptions of the data."
   ]
  },
  {
   "cell_type": "code",
   "execution_count": 4,
   "metadata": {
    "execution": {
     "iopub.execute_input": "2022-11-16T03:21:19.777793Z",
     "iopub.status.busy": "2022-11-16T03:21:19.776691Z",
     "iopub.status.idle": "2022-11-16T03:21:20.132210Z",
     "shell.execute_reply": "2022-11-16T03:21:20.131201Z",
     "shell.execute_reply.started": "2022-11-16T03:21:19.777750Z"
    }
   },
   "outputs": [
    {
     "data": {
      "text/html": [
       "<div>\n",
       "<style scoped>\n",
       "    .dataframe tbody tr th:only-of-type {\n",
       "        vertical-align: middle;\n",
       "    }\n",
       "\n",
       "    .dataframe tbody tr th {\n",
       "        vertical-align: top;\n",
       "    }\n",
       "\n",
       "    .dataframe thead th {\n",
       "        text-align: right;\n",
       "    }\n",
       "</style>\n",
       "<table border=\"1\" class=\"dataframe\">\n",
       "  <thead>\n",
       "    <tr style=\"text-align: right;\">\n",
       "      <th></th>\n",
       "      <th>FILENAME</th>\n",
       "      <th>IDENTITY</th>\n",
       "    </tr>\n",
       "  </thead>\n",
       "  <tbody>\n",
       "    <tr>\n",
       "      <th>count</th>\n",
       "      <td>330961</td>\n",
       "      <td>330396</td>\n",
       "    </tr>\n",
       "    <tr>\n",
       "      <th>unique</th>\n",
       "      <td>330961</td>\n",
       "      <td>100539</td>\n",
       "    </tr>\n",
       "    <tr>\n",
       "      <th>top</th>\n",
       "      <td>TRAIN_00001.jpg</td>\n",
       "      <td>THOMAS</td>\n",
       "    </tr>\n",
       "    <tr>\n",
       "      <th>freq</th>\n",
       "      <td>1</td>\n",
       "      <td>1825</td>\n",
       "    </tr>\n",
       "  </tbody>\n",
       "</table>\n",
       "</div>"
      ],
      "text/plain": [
       "               FILENAME IDENTITY\n",
       "count            330961   330396\n",
       "unique           330961   100539\n",
       "top     TRAIN_00001.jpg   THOMAS\n",
       "freq                  1     1825"
      ]
     },
     "execution_count": 4,
     "metadata": {},
     "output_type": "execute_result"
    }
   ],
   "source": [
    "train_name.describe()"
   ]
  },
  {
   "cell_type": "code",
   "execution_count": 5,
   "metadata": {
    "execution": {
     "iopub.execute_input": "2022-11-16T03:21:22.283569Z",
     "iopub.status.busy": "2022-11-16T03:21:22.282392Z",
     "iopub.status.idle": "2022-11-16T03:21:22.325590Z",
     "shell.execute_reply": "2022-11-16T03:21:22.324532Z",
     "shell.execute_reply.started": "2022-11-16T03:21:22.283522Z"
    }
   },
   "outputs": [
    {
     "data": {
      "text/html": [
       "<div>\n",
       "<style scoped>\n",
       "    .dataframe tbody tr th:only-of-type {\n",
       "        vertical-align: middle;\n",
       "    }\n",
       "\n",
       "    .dataframe tbody tr th {\n",
       "        vertical-align: top;\n",
       "    }\n",
       "\n",
       "    .dataframe thead th {\n",
       "        text-align: right;\n",
       "    }\n",
       "</style>\n",
       "<table border=\"1\" class=\"dataframe\">\n",
       "  <thead>\n",
       "    <tr style=\"text-align: right;\">\n",
       "      <th></th>\n",
       "      <th>FILENAME</th>\n",
       "      <th>IDENTITY</th>\n",
       "    </tr>\n",
       "  </thead>\n",
       "  <tbody>\n",
       "    <tr>\n",
       "      <th>count</th>\n",
       "      <td>41370</td>\n",
       "      <td>41300</td>\n",
       "    </tr>\n",
       "    <tr>\n",
       "      <th>unique</th>\n",
       "      <td>41370</td>\n",
       "      <td>20279</td>\n",
       "    </tr>\n",
       "    <tr>\n",
       "      <th>top</th>\n",
       "      <td>TEST_0001.jpg</td>\n",
       "      <td>THOMAS</td>\n",
       "    </tr>\n",
       "    <tr>\n",
       "      <th>freq</th>\n",
       "      <td>1</td>\n",
       "      <td>227</td>\n",
       "    </tr>\n",
       "  </tbody>\n",
       "</table>\n",
       "</div>"
      ],
      "text/plain": [
       "             FILENAME IDENTITY\n",
       "count           41370    41300\n",
       "unique          41370    20279\n",
       "top     TEST_0001.jpg   THOMAS\n",
       "freq                1      227"
      ]
     },
     "execution_count": 5,
     "metadata": {},
     "output_type": "execute_result"
    }
   ],
   "source": [
    "test_name.describe()"
   ]
  },
  {
   "cell_type": "markdown",
   "metadata": {},
   "source": [
    "We will also look at the information about our data."
   ]
  },
  {
   "cell_type": "code",
   "execution_count": 6,
   "metadata": {
    "execution": {
     "iopub.execute_input": "2022-11-16T03:21:26.847759Z",
     "iopub.status.busy": "2022-11-16T03:21:26.847216Z",
     "iopub.status.idle": "2022-11-16T03:21:26.896058Z",
     "shell.execute_reply": "2022-11-16T03:21:26.894800Z",
     "shell.execute_reply.started": "2022-11-16T03:21:26.847716Z"
    }
   },
   "outputs": [
    {
     "name": "stdout",
     "output_type": "stream",
     "text": [
      "<class 'pandas.core.frame.DataFrame'>\n",
      "RangeIndex: 330961 entries, 0 to 330960\n",
      "Data columns (total 2 columns):\n",
      " #   Column    Non-Null Count   Dtype \n",
      "---  ------    --------------   ----- \n",
      " 0   FILENAME  330961 non-null  object\n",
      " 1   IDENTITY  330396 non-null  object\n",
      "dtypes: object(2)\n",
      "memory usage: 5.1+ MB\n"
     ]
    }
   ],
   "source": [
    "train_name.info()"
   ]
  },
  {
   "cell_type": "code",
   "execution_count": 7,
   "metadata": {
    "execution": {
     "iopub.execute_input": "2022-11-16T03:21:28.606377Z",
     "iopub.status.busy": "2022-11-16T03:21:28.605350Z",
     "iopub.status.idle": "2022-11-16T03:21:28.628587Z",
     "shell.execute_reply": "2022-11-16T03:21:28.627374Z",
     "shell.execute_reply.started": "2022-11-16T03:21:28.606306Z"
    }
   },
   "outputs": [
    {
     "name": "stdout",
     "output_type": "stream",
     "text": [
      "<class 'pandas.core.frame.DataFrame'>\n",
      "RangeIndex: 41370 entries, 0 to 41369\n",
      "Data columns (total 2 columns):\n",
      " #   Column    Non-Null Count  Dtype \n",
      "---  ------    --------------  ----- \n",
      " 0   FILENAME  41370 non-null  object\n",
      " 1   IDENTITY  41300 non-null  object\n",
      "dtypes: object(2)\n",
      "memory usage: 646.5+ KB\n"
     ]
    }
   ],
   "source": [
    "test_name.info()"
   ]
  },
  {
   "cell_type": "markdown",
   "metadata": {},
   "source": [
    "We will examine the dimensions of our datasets."
   ]
  },
  {
   "cell_type": "code",
   "execution_count": 8,
   "metadata": {
    "execution": {
     "iopub.execute_input": "2022-11-16T03:21:30.854542Z",
     "iopub.status.busy": "2022-11-16T03:21:30.853915Z",
     "iopub.status.idle": "2022-11-16T03:21:30.868124Z",
     "shell.execute_reply": "2022-11-16T03:21:30.866959Z",
     "shell.execute_reply.started": "2022-11-16T03:21:30.854493Z"
    }
   },
   "outputs": [
    {
     "data": {
      "text/plain": [
       "(330961, 2)"
      ]
     },
     "execution_count": 8,
     "metadata": {},
     "output_type": "execute_result"
    }
   ],
   "source": [
    "train_name.shape"
   ]
  },
  {
   "cell_type": "code",
   "execution_count": 9,
   "metadata": {
    "execution": {
     "iopub.execute_input": "2022-11-16T03:21:32.225689Z",
     "iopub.status.busy": "2022-11-16T03:21:32.225212Z",
     "iopub.status.idle": "2022-11-16T03:21:32.233652Z",
     "shell.execute_reply": "2022-11-16T03:21:32.232608Z",
     "shell.execute_reply.started": "2022-11-16T03:21:32.225649Z"
    }
   },
   "outputs": [
    {
     "data": {
      "text/plain": [
       "(41370, 2)"
      ]
     },
     "execution_count": 9,
     "metadata": {},
     "output_type": "execute_result"
    }
   ],
   "source": [
    "test_name.shape"
   ]
  },
  {
   "cell_type": "code",
   "execution_count": 10,
   "metadata": {
    "execution": {
     "iopub.execute_input": "2022-11-16T03:21:34.015861Z",
     "iopub.status.busy": "2022-11-16T03:21:34.015366Z",
     "iopub.status.idle": "2022-11-16T03:21:34.023973Z",
     "shell.execute_reply": "2022-11-16T03:21:34.022868Z",
     "shell.execute_reply.started": "2022-11-16T03:21:34.015814Z"
    }
   },
   "outputs": [
    {
     "data": {
      "text/plain": [
       "(41370, 2)"
      ]
     },
     "execution_count": 10,
     "metadata": {},
     "output_type": "execute_result"
    }
   ],
   "source": [
    "val_name.shape"
   ]
  },
  {
   "cell_type": "markdown",
   "metadata": {},
   "source": [
    "We will also examine the types of data we are dealing with."
   ]
  },
  {
   "cell_type": "code",
   "execution_count": 11,
   "metadata": {
    "execution": {
     "iopub.execute_input": "2022-11-16T03:21:35.803274Z",
     "iopub.status.busy": "2022-11-16T03:21:35.802791Z",
     "iopub.status.idle": "2022-11-16T03:21:35.813727Z",
     "shell.execute_reply": "2022-11-16T03:21:35.812434Z",
     "shell.execute_reply.started": "2022-11-16T03:21:35.803233Z"
    }
   },
   "outputs": [
    {
     "data": {
      "text/plain": [
       "FILENAME    object\n",
       "IDENTITY    object\n",
       "dtype: object"
      ]
     },
     "execution_count": 11,
     "metadata": {},
     "output_type": "execute_result"
    }
   ],
   "source": [
    "train_name.dtypes"
   ]
  },
  {
   "cell_type": "markdown",
   "metadata": {},
   "source": [
    "We will also see the indices of the columns"
   ]
  },
  {
   "cell_type": "code",
   "execution_count": 12,
   "metadata": {
    "execution": {
     "iopub.execute_input": "2022-11-16T03:21:37.624502Z",
     "iopub.status.busy": "2022-11-16T03:21:37.623942Z",
     "iopub.status.idle": "2022-11-16T03:21:37.632983Z",
     "shell.execute_reply": "2022-11-16T03:21:37.631837Z",
     "shell.execute_reply.started": "2022-11-16T03:21:37.624455Z"
    }
   },
   "outputs": [
    {
     "data": {
      "text/plain": [
       "Index(['FILENAME', 'IDENTITY'], dtype='object')"
      ]
     },
     "execution_count": 12,
     "metadata": {},
     "output_type": "execute_result"
    }
   ],
   "source": [
    "train_name.columns"
   ]
  },
  {
   "cell_type": "markdown",
   "metadata": {},
   "source": [
    "Finally, we will look at some of the examples of the images of handwritten names from, say, train dataset."
   ]
  },
  {
   "cell_type": "code",
   "execution_count": 13,
   "metadata": {
    "execution": {
     "iopub.execute_input": "2022-11-16T03:21:40.179076Z",
     "iopub.status.busy": "2022-11-16T03:21:40.178591Z",
     "iopub.status.idle": "2022-11-16T03:21:40.999869Z",
     "shell.execute_reply": "2022-11-16T03:21:40.998608Z",
     "shell.execute_reply.started": "2022-11-16T03:21:40.179033Z"
    }
   },
   "outputs": [
    {
     "data": {
      "image/png": "[encoded data removed]",
      "text/plain": [
       "<Figure size 1080x720 with 6 Axes>"
      ]
     },
     "metadata": {
      "needs_background": "light"
     },
     "output_type": "display_data"
    }
   ],
   "source": [
    "plt.figure(figsize=(15,10))\n",
    "\n",
    "for i in range(6):\n",
    "    ax = plt.subplot(2, 3, i+1)\n",
    "    img_dir = '/kaggle/input/handwriting-recognition/train_v2/train/'+train_name.loc[i, 'FILENAME']\n",
    "    image = cv2.imread(img_dir, cv2.IMREAD_GRAYSCALE)\n",
    "    plt.imshow(image, cmap = 'gray')\n",
    "    plt.title(train_name.loc[i, 'IDENTITY'], fontsize=12)\n",
    "    plt.axis('off')\n",
    "    \n",
    "plt.subplots_adjust(wspace=0.2, hspace=-0.8)"
   ]
  },
  {
   "cell_type": "markdown",
   "metadata": {},
   "source": [
    "## Data Cleaning\n",
    "\n",
    "We will now check for null entries in the csv files."
   ]
  },
  {
   "cell_type": "code",
   "execution_count": 14,
   "metadata": {
    "execution": {
     "iopub.execute_input": "2022-11-16T03:21:44.025481Z",
     "iopub.status.busy": "2022-11-16T03:21:44.024997Z",
     "iopub.status.idle": "2022-11-16T03:21:44.056524Z",
     "shell.execute_reply": "2022-11-16T03:21:44.055544Z",
     "shell.execute_reply.started": "2022-11-16T03:21:44.025436Z"
    }
   },
   "outputs": [
    {
     "name": "stdout",
     "output_type": "stream",
     "text": [
      "Number of NaNs in the train dataset is:  565\n",
      "Number of NaNs in the validation dataset is:  78\n",
      "Number of NaNs in the test dataset is:  70\n"
     ]
    }
   ],
   "source": [
    "print(\"Number of NaNs in the train dataset is: \", train_name['IDENTITY'].isnull().sum())\n",
    "print(\"Number of NaNs in the validation dataset is: \", val_name['IDENTITY'].isnull().sum())\n",
    "print(\"Number of NaNs in the test dataset is: \", test_name['IDENTITY'].isnull().sum())"
   ]
  },
  {
   "cell_type": "markdown",
   "metadata": {},
   "source": [
    "Now get rid of all the null entries."
   ]
  },
  {
   "cell_type": "code",
   "execution_count": 15,
   "metadata": {
    "execution": {
     "iopub.execute_input": "2022-11-16T03:21:45.986242Z",
     "iopub.status.busy": "2022-11-16T03:21:45.985156Z",
     "iopub.status.idle": "2022-11-16T03:21:46.052735Z",
     "shell.execute_reply": "2022-11-16T03:21:46.051621Z",
     "shell.execute_reply.started": "2022-11-16T03:21:45.986194Z"
    }
   },
   "outputs": [],
   "source": [
    "train_name.dropna(axis=0, inplace=True)\n",
    "val_name.dropna(axis=0, inplace=True)\n",
    "test_name.dropna(axis=0, inplace=True)"
   ]
  },
  {
   "cell_type": "markdown",
   "metadata": {},
   "source": [
    "There are also some images that are unreadable. We will look at some examples here."
   ]
  },
  {
   "cell_type": "code",
   "execution_count": 16,
   "metadata": {
    "execution": {
     "iopub.execute_input": "2022-11-16T03:21:48.803751Z",
     "iopub.status.busy": "2022-11-16T03:21:48.803007Z",
     "iopub.status.idle": "2022-11-16T03:21:49.301971Z",
     "shell.execute_reply": "2022-11-16T03:21:49.300966Z",
     "shell.execute_reply.started": "2022-11-16T03:21:48.803714Z"
    }
   },
   "outputs": [
    {
     "data": {
      "image/png": "[encoded data removed]",
      "text/plain": [
       "<Figure size 1080x720 with 6 Axes>"
      ]
     },
     "metadata": {
      "needs_background": "light"
     },
     "output_type": "display_data"
    }
   ],
   "source": [
    "unreadable = train_name[train_name['IDENTITY'] == 'UNREADABLE']\n",
    "unreadable.reset_index(inplace = True, drop = True)\n",
    "\n",
    "plt.figure(figsize=(15,10))\n",
    "\n",
    "for i in range(6):\n",
    "    ax = plt.subplot(2, 3, i+1)\n",
    "    img_dir = '/kaggle/input/handwriting-recognition/train_v2/train/'+unreadable.loc[i, 'FILENAME']\n",
    "    image = cv2.imread(img_dir, cv2.IMREAD_GRAYSCALE)\n",
    "    plt.imshow(image, cmap = 'gray')\n",
    "    plt.title(unreadable.loc[i, 'IDENTITY'], fontsize=12)\n",
    "    plt.axis('off')\n",
    "    \n",
    "plt.subplots_adjust(wspace=0.2, hspace=-0.8)"
   ]
  },
  {
   "cell_type": "markdown",
   "metadata": {},
   "source": [
    "Now we drop unreadable images in the csv dataset."
   ]
  },
  {
   "cell_type": "code",
   "execution_count": 17,
   "metadata": {
    "execution": {
     "iopub.execute_input": "2022-11-16T03:21:52.435208Z",
     "iopub.status.busy": "2022-11-16T03:21:52.434831Z",
     "iopub.status.idle": "2022-11-16T03:21:52.492772Z",
     "shell.execute_reply": "2022-11-16T03:21:52.491747Z",
     "shell.execute_reply.started": "2022-11-16T03:21:52.435170Z"
    }
   },
   "outputs": [],
   "source": [
    "train_name = train_name[train_name['IDENTITY'] != 'UNREADABLE']\n",
    "val_name = val_name[val_name['IDENTITY'] != 'UNREADABLE']\n",
    "test_name = test_name[test_name['IDENTITY'] != 'UNREADABLE']"
   ]
  },
  {
   "cell_type": "markdown",
   "metadata": {},
   "source": [
    "Set all labels to uppercases for uniformity in data."
   ]
  },
  {
   "cell_type": "code",
   "execution_count": 18,
   "metadata": {
    "execution": {
     "iopub.execute_input": "2022-11-16T03:21:53.976839Z",
     "iopub.status.busy": "2022-11-16T03:21:53.975819Z",
     "iopub.status.idle": "2022-11-16T03:21:54.246015Z",
     "shell.execute_reply": "2022-11-16T03:21:54.244913Z",
     "shell.execute_reply.started": "2022-11-16T03:21:53.976790Z"
    }
   },
   "outputs": [],
   "source": [
    "train_name['IDENTITY'] = train_name['IDENTITY'].str.upper()\n",
    "val_name['IDENTITY'] = val_name['IDENTITY'].str.upper()\n",
    "test_name['IDENTITY'] = test_name['IDENTITY'].str.upper()"
   ]
  },
  {
   "cell_type": "markdown",
   "metadata": {},
   "source": [
    "Reset the index and the data cleaning is done."
   ]
  },
  {
   "cell_type": "code",
   "execution_count": 19,
   "metadata": {
    "execution": {
     "iopub.execute_input": "2022-11-16T03:21:56.269429Z",
     "iopub.status.busy": "2022-11-16T03:21:56.268855Z",
     "iopub.status.idle": "2022-11-16T03:21:56.277765Z",
     "shell.execute_reply": "2022-11-16T03:21:56.276552Z",
     "shell.execute_reply.started": "2022-11-16T03:21:56.269395Z"
    }
   },
   "outputs": [],
   "source": [
    "train_name.reset_index(inplace = True, drop = True)\n",
    "val_name.reset_index(inplace = True, drop = True)\n",
    "test_name.reset_index(inplace = True, drop = True)"
   ]
  },
  {
   "cell_type": "markdown",
   "metadata": {},
   "source": [
    "## Image Preprocessing\n",
    "\n",
    "The image are loaded as grayscale and reshaped to width 265 and height 64. If images are larger than this dimension, we will crop the image. if the image is smaller than this dimension, we will add white pixels padding and rotate to (x, y). Finally, all images are normalized to [0, 1]."
   ]
  },
  {
   "cell_type": "code",
   "execution_count": 20,
   "metadata": {
    "execution": {
     "iopub.execute_input": "2022-11-16T03:21:58.731283Z",
     "iopub.status.busy": "2022-11-16T03:21:58.730913Z",
     "iopub.status.idle": "2022-11-16T03:21:58.738808Z",
     "shell.execute_reply": "2022-11-16T03:21:58.737382Z",
     "shell.execute_reply.started": "2022-11-16T03:21:58.731249Z"
    }
   },
   "outputs": [],
   "source": [
    "def image_processing(img):\n",
    "    (h, w) = img.shape\n",
    "    \n",
    "    final_img = np.ones([64, 256])*255 \n",
    "    \n",
    "    if w > 256:\n",
    "        img = img[:, :256]\n",
    "    if h > 64:\n",
    "        img = img[:64, :]\n",
    "        \n",
    "    final_img[:h, :w] = img\n",
    "    return cv2.rotate(final_img, cv2.ROTATE_90_CLOCKWISE)"
   ]
  },
  {
   "cell_type": "markdown",
   "metadata": {},
   "source": [
    "We will train the model on 60,000 train images and validate on 3,000 images. We will then test on 3,000 images."
   ]
  },
  {
   "cell_type": "code",
   "execution_count": 21,
   "metadata": {
    "execution": {
     "iopub.execute_input": "2022-11-16T03:22:02.345043Z",
     "iopub.status.busy": "2022-11-16T03:22:02.344283Z",
     "iopub.status.idle": "2022-11-16T03:26:50.228504Z",
     "shell.execute_reply": "2022-11-16T03:26:50.227074Z",
     "shell.execute_reply.started": "2022-11-16T03:22:02.345006Z"
    }
   },
   "outputs": [],
   "source": [
    "train_size = 30000\n",
    "val_size = 3000\n",
    "test_size = 3000\n",
    "\n",
    "train_x = []\n",
    "val_x = []\n",
    "test_x = []\n",
    "\n",
    "for i in range(train_size):\n",
    "    img_dir = '/kaggle/input/handwriting-recognition/train_v2/train/' + train_name.loc[i, 'FILENAME']\n",
    "    image = cv2.imread(img_dir, cv2.IMREAD_GRAYSCALE)\n",
    "    image = image_processing(image)\n",
    "    image = image/255.\n",
    "    train_x.append(image)\n",
    "    \n",
    "for i in range(val_size):\n",
    "    img_dir = '/kaggle/input/handwriting-recognition/validation_v2/validation/' + val_name.loc[i, 'FILENAME']\n",
    "    image = cv2.imread(img_dir, cv2.IMREAD_GRAYSCALE)\n",
    "    image = image_processing(image)\n",
    "    image = image/255.\n",
    "    val_x.append(image)\n",
    "    \n",
    "for i in range(test_size):\n",
    "    img_dir = '/kaggle/input/handwriting-recognition/test_v2/test/' + test_name.loc[i, 'FILENAME']\n",
    "    image = cv2.imread(img_dir, cv2.IMREAD_GRAYSCALE)\n",
    "    image = image_processing(image)\n",
    "    image = image/255.\n",
    "    test_x.append(image)\n",
    "    \n",
    "train_x = np.array(train_x).reshape(-1, 256, 64, 1)\n",
    "val_x = np.array(val_x).reshape(-1, 256, 64, 1)\n",
    "test_x = np.array(test_x).reshape(-1, 256, 64, 1)"
   ]
  },
  {
   "cell_type": "markdown",
   "metadata": {},
   "source": [
    "## Character processing\n",
    "\n",
    "We will now process the strings of names by converting them into numbers via a systematic sets of rules (CTC loss) for text recognition. The alphabets contain A-Z and three special characters (- ' and space)."
   ]
  },
  {
   "cell_type": "code",
   "execution_count": 22,
   "metadata": {
    "execution": {
     "iopub.execute_input": "2022-11-16T03:34:52.187039Z",
     "iopub.status.busy": "2022-11-16T03:34:52.186467Z",
     "iopub.status.idle": "2022-11-16T03:34:52.200742Z",
     "shell.execute_reply": "2022-11-16T03:34:52.199494Z",
     "shell.execute_reply.started": "2022-11-16T03:34:52.186995Z"
    }
   },
   "outputs": [],
   "source": [
    "alphabets = u\"ABCDEFGHIJKLMNOPQRSTUVWXYZ-' \"\n",
    "max_str_len = 24 # max length of input name\n",
    "num_characters = len(alphabets) + 1 # the plus one is to account for ctc pseudo blank\n",
    "num_of_timestamps = 64 # max length of predicted names\n",
    "\n",
    "def name_to_num(name):\n",
    "    name_num = []\n",
    "    for ch in name:\n",
    "        name_num.append(alphabets.find(ch))\n",
    "    return np.array(name_num)\n",
    "\n",
    "def num_to_name(num):\n",
    "    name = \"\"\n",
    "    for ch in num:\n",
    "        if ch == -1: # CTC blank\n",
    "            break\n",
    "        else:\n",
    "            name += alphabets[ch]\n",
    "    return name"
   ]
  },
  {
   "cell_type": "markdown",
   "metadata": {},
   "source": [
    "Here we will create 4 variables for each of the sets (train, validation, test). For instance:\n",
    "\n",
    "* **train_y** contains the true numerical representation of name and padded with -1. The length is equal to max_str_len.\n",
    "* **train_name_len** is the length of name without padding.\n",
    "* **train_input_len** is the length of each predicted name. The length of all the predicted names is constant and is (num_of_timestamps - 2).\n",
    "* **train_output** is the output for the ML model."
   ]
  },
  {
   "cell_type": "code",
   "execution_count": 23,
   "metadata": {
    "execution": {
     "iopub.execute_input": "2022-11-16T03:34:57.981980Z",
     "iopub.status.busy": "2022-11-16T03:34:57.981202Z",
     "iopub.status.idle": "2022-11-16T03:34:59.367608Z",
     "shell.execute_reply": "2022-11-16T03:34:59.366178Z",
     "shell.execute_reply.started": "2022-11-16T03:34:57.981939Z"
    }
   },
   "outputs": [],
   "source": [
    "train_y = np.ones([train_size, max_str_len]) * -1\n",
    "train_name_len = np.zeros([train_size, 1])\n",
    "train_input_len = np.ones([train_size, 1]) * (num_of_timestamps-2)\n",
    "train_output = np.zeros([train_size])\n",
    "\n",
    "for i in range(train_size):\n",
    "    train_name_len[i] = len(train_name.loc[i, 'IDENTITY'])\n",
    "    train_y[i, 0:len(train_name.loc[i, 'IDENTITY'])] = name_to_num(train_name.loc[i, 'IDENTITY'])\n",
    "\n",
    "val_y = np.ones([val_size, max_str_len]) * -1\n",
    "val_name_len = np.zeros([val_size, 1])\n",
    "val_input_len = np.ones([val_size, 1]) * (num_of_timestamps-2)\n",
    "val_output = np.zeros([val_size])\n",
    "\n",
    "for i in range(val_size):\n",
    "    val_name_len[i] = len(val_name.loc[i, 'IDENTITY'])\n",
    "    val_y[i, 0:len(val_name.loc[i, 'IDENTITY'])] = name_to_num(val_name.loc[i, 'IDENTITY'])\n",
    "\n",
    "test_y = np.ones([test_size, max_str_len]) * -1\n",
    "test_name_len = np.zeros([test_size, 1])\n",
    "test_input_len = np.ones([test_size, 1]) * (num_of_timestamps-2)\n",
    "test_output = np.zeros([test_size])\n",
    "\n",
    "for i in range(test_size):\n",
    "    test_name_len[i] = len(test_name.loc[i, 'IDENTITY'])\n",
    "    test_y[i, 0:len(test_name.loc[i, 'IDENTITY'])] = name_to_num(test_name.loc[i, 'IDENTITY'])"
   ]
  },
  {
   "cell_type": "markdown",
   "metadata": {},
   "source": [
    "## Building our hybrid CNN + RNN model\n",
    "\n",
    "We are now ready to build our machine learning model. We will use CNN to process images (as our x variable) and connect it to RNN (to process our y variable, i.e., names and characters). We will employ deep CNN architecture (3 layers) and shallow RNN architecture (2 layers). We will also define a CTC loss function beforehand."
   ]
  },
  {
   "cell_type": "code",
   "execution_count": 24,
   "metadata": {
    "execution": {
     "iopub.execute_input": "2022-11-16T03:35:04.639828Z",
     "iopub.status.busy": "2022-11-16T03:35:04.639432Z",
     "iopub.status.idle": "2022-11-16T03:35:08.334783Z",
     "shell.execute_reply": "2022-11-16T03:35:08.333766Z",
     "shell.execute_reply.started": "2022-11-16T03:35:04.639794Z"
    }
   },
   "outputs": [
    {
     "name": "stderr",
     "output_type": "stream",
     "text": [
      "2022-11-16 03:35:04.769781: I tensorflow/stream_executor/cuda/cuda_gpu_executor.cc:937] successful NUMA node read from SysFS had negative value (-1), but there must be at least one NUMA node, so returning NUMA node zero\n",
      "2022-11-16 03:35:04.885881: I tensorflow/stream_executor/cuda/cuda_gpu_executor.cc:937] successful NUMA node read from SysFS had negative value (-1), but there must be at least one NUMA node, so returning NUMA node zero\n",
      "2022-11-16 03:35:04.886762: I tensorflow/stream_executor/cuda/cuda_gpu_executor.cc:937] successful NUMA node read from SysFS had negative value (-1), but there must be at least one NUMA node, so returning NUMA node zero\n",
      "2022-11-16 03:35:04.888066: I tensorflow/core/platform/cpu_feature_guard.cc:142] This TensorFlow binary is optimized with oneAPI Deep Neural Network Library (oneDNN) to use the following CPU instructions in performance-critical operations:  AVX2 AVX512F FMA\n",
      "To enable them in other operations, rebuild TensorFlow with the appropriate compiler flags.\n",
      "2022-11-16 03:35:04.888431: I tensorflow/stream_executor/cuda/cuda_gpu_executor.cc:937] successful NUMA node read from SysFS had negative value (-1), but there must be at least one NUMA node, so returning NUMA node zero\n",
      "2022-11-16 03:35:04.889204: I tensorflow/stream_executor/cuda/cuda_gpu_executor.cc:937] successful NUMA node read from SysFS had negative value (-1), but there must be at least one NUMA node, so returning NUMA node zero\n",
      "2022-11-16 03:35:04.889921: I tensorflow/stream_executor/cuda/cuda_gpu_executor.cc:937] successful NUMA node read from SysFS had negative value (-1), but there must be at least one NUMA node, so returning NUMA node zero\n",
      "2022-11-16 03:35:06.987390: I tensorflow/stream_executor/cuda/cuda_gpu_executor.cc:937] successful NUMA node read from SysFS had negative value (-1), but there must be at least one NUMA node, so returning NUMA node zero\n",
      "2022-11-16 03:35:06.988223: I tensorflow/stream_executor/cuda/cuda_gpu_executor.cc:937] successful NUMA node read from SysFS had negative value (-1), but there must be at least one NUMA node, so returning NUMA node zero\n",
      "2022-11-16 03:35:06.989035: I tensorflow/stream_executor/cuda/cuda_gpu_executor.cc:937] successful NUMA node read from SysFS had negative value (-1), but there must be at least one NUMA node, so returning NUMA node zero\n",
      "2022-11-16 03:35:06.989754: I tensorflow/core/common_runtime/gpu/gpu_device.cc:1510] Created device /job:localhost/replica:0/task:0/device:GPU:0 with 15401 MB memory:  -> device: 0, name: Tesla P100-PCIE-16GB, pci bus id: 0000:00:04.0, compute capability: 6.0\n"
     ]
    }
   ],
   "source": [
    "def ctc_lambda_func(args):\n",
    "    y_pred, names, input_length, name_length = args\n",
    "    \n",
    "    y_pred = y_pred[:, 2:, :]\n",
    "    return K.ctc_batch_cost(names, y_pred, input_length, name_length)\n",
    "\n",
    "input_data = Input(shape=(256, 64, 1), name='input')\n",
    "    \n",
    "# CNN\n",
    "inner = Conv2D(32, (3, 3), padding='same', name='conv1', kernel_initializer='he_normal')(input_data)\n",
    "inner = BatchNormalization()(inner)\n",
    "inner = Activation('relu')(inner)\n",
    "inner = MaxPooling2D(pool_size=(2,2), name='max1')(inner)\n",
    "    \n",
    "inner = Conv2D(64, (3, 3), padding='same', name='conv2', kernel_initializer='he_normal')(inner)\n",
    "inner = BatchNormalization()(inner)\n",
    "inner = Activation('relu')(inner)\n",
    "inner = MaxPooling2D(pool_size=(2,2), name='max2')(inner)\n",
    "inner = Dropout(0.3)(inner)\n",
    "    \n",
    "inner = Conv2D(128, (3, 3), padding='same', name='conv3', kernel_initializer='he_normal')(inner)\n",
    "inner = BatchNormalization()(inner)\n",
    "inner = Activation('relu')(inner)\n",
    "inner = MaxPooling2D(pool_size=(1,2), name='max3')(inner)\n",
    "inner = Dropout(0.3)(inner)\n",
    "    \n",
    "# CNN to RNN\n",
    "inner = Reshape(target_shape = ((64, 1024)), name='reshape')(inner)\n",
    "inner = Dense(64, activation='relu', kernel_initializer='he_normal', name='dense1')(inner)\n",
    "    \n",
    "# RNN\n",
    "inner = Bidirectional(LSTM(256, return_sequences=True), name='lstm1')(inner)\n",
    "inner = Bidirectional(LSTM(256, return_sequences=True), name='lstm2')(inner)\n",
    "    \n",
    "# Output\n",
    "inner = Dense(num_characters, kernel_initializer='he_normal', name='dense2')(inner)\n",
    "y_pred = Activation('softmax', name='softmax')(inner)\n",
    "    \n",
    "model = Model(inputs=input_data, outputs=y_pred)\n",
    "\n",
    "# Now include the ctc loss function and compile\n",
    "names = Input(name='gtruth_names', shape=[max_str_len], dtype='float32')\n",
    "input_length = Input(name='input_length', shape=[1], dtype='int64')\n",
    "name_length = Input(name='name_length', shape=[1], dtype='int64')\n",
    "\n",
    "ctc_loss = Lambda(ctc_lambda_func, output_shape=(1,), name='ctc')([y_pred, names, input_length, name_length])\n",
    "model_final = Model(inputs=[input_data, names, input_length, name_length], outputs=ctc_loss)\n",
    "model_final.compile(loss={'ctc': lambda y_true, y_pred: y_pred}, optimizer=Adam(lr=0.0001))"
   ]
  },
  {
   "cell_type": "markdown",
   "metadata": {},
   "source": [
    "## Training our model\n",
    "\n",
    "We are now ready to train our model."
   ]
  },
  {
   "cell_type": "code",
   "execution_count": 25,
   "metadata": {
    "execution": {
     "iopub.execute_input": "2022-11-16T03:35:14.806828Z",
     "iopub.status.busy": "2022-11-16T03:35:14.806280Z",
     "iopub.status.idle": "2022-11-16T04:15:46.374720Z",
     "shell.execute_reply": "2022-11-16T04:15:46.372888Z",
     "shell.execute_reply.started": "2022-11-16T03:35:14.806772Z"
    }
   },
   "outputs": [
    {
     "name": "stderr",
     "output_type": "stream",
     "text": [
      "2022-11-16 03:35:16.120687: W tensorflow/core/framework/cpu_allocator_impl.cc:80] Allocation of 1966080000 exceeds 10% of free system memory.\n",
      "2022-11-16 03:35:18.555050: I tensorflow/compiler/mlir/mlir_graph_optimization_pass.cc:185] None of the MLIR Optimization Passes are enabled (registered 2)\n"
     ]
    },
    {
     "name": "stdout",
     "output_type": "stream",
     "text": [
      "Epoch 1/60\n"
     ]
    },
    {
     "name": "stderr",
     "output_type": "stream",
     "text": [
      "2022-11-16 03:35:25.386551: I tensorflow/stream_executor/cuda/cuda_dnn.cc:369] Loaded cuDNN version 8005\n"
     ]
    },
    {
     "name": "stdout",
     "output_type": "stream",
     "text": [
      "235/235 [==============================] - ETA: 0s - loss: 25.2418"
     ]
    },
    {
     "name": "stderr",
     "output_type": "stream",
     "text": [
      "2022-11-16 03:36:11.580681: W tensorflow/core/framework/cpu_allocator_impl.cc:80] Allocation of 196608000 exceeds 10% of free system memory.\n",
      "2022-11-16 03:36:11.725934: W tensorflow/core/framework/cpu_allocator_impl.cc:80] Allocation of 196608000 exceeds 10% of free system memory.\n"
     ]
    },
    {
     "name": "stdout",
     "output_type": "stream",
     "text": [
      "235/235 [==============================] - 57s 184ms/step - loss: 25.2418 - val_loss: 20.9152\n",
      "Epoch 2/60\n",
      "235/235 [==============================] - 41s 173ms/step - loss: 20.1442 - val_loss: 20.1390\n",
      "Epoch 3/60\n",
      "235/235 [==============================] - 39s 168ms/step - loss: 19.7961 - val_loss: 19.7664\n",
      "Epoch 4/60\n",
      "235/235 [==============================] - 39s 167ms/step - loss: 19.3940 - val_loss: 19.3719\n",
      "Epoch 5/60\n",
      "235/235 [==============================] - 39s 167ms/step - loss: 18.7597 - val_loss: 18.2561\n",
      "Epoch 6/60\n",
      "235/235 [==============================] - 40s 170ms/step - loss: 17.6923 - val_loss: 17.2527\n",
      "Epoch 7/60\n",
      "235/235 [==============================] - 40s 170ms/step - loss: 16.3784 - val_loss: 16.2180\n",
      "Epoch 8/60\n",
      "235/235 [==============================] - 39s 166ms/step - loss: 14.6740 - val_loss: 14.4633\n",
      "Epoch 9/60\n",
      "235/235 [==============================] - 39s 168ms/step - loss: 12.7573 - val_loss: 11.8044\n",
      "Epoch 10/60\n",
      "235/235 [==============================] - 40s 170ms/step - loss: 10.6895 - val_loss: 10.2448\n",
      "Epoch 11/60\n",
      "235/235 [==============================] - 39s 168ms/step - loss: 8.5993 - val_loss: 8.4646\n",
      "Epoch 12/60\n",
      "235/235 [==============================] - 39s 167ms/step - loss: 7.0511 - val_loss: 7.4317\n",
      "Epoch 13/60\n",
      "235/235 [==============================] - 39s 167ms/step - loss: 6.0557 - val_loss: 5.4416\n",
      "Epoch 14/60\n",
      "235/235 [==============================] - 40s 171ms/step - loss: 5.3637 - val_loss: 4.9025\n",
      "Epoch 15/60\n",
      "235/235 [==============================] - 39s 167ms/step - loss: 4.8581 - val_loss: 4.3049\n",
      "Epoch 16/60\n",
      "235/235 [==============================] - 40s 169ms/step - loss: 4.4443 - val_loss: 4.5626\n",
      "Epoch 17/60\n",
      "235/235 [==============================] - 40s 168ms/step - loss: 4.1237 - val_loss: 5.1564\n",
      "Epoch 18/60\n",
      "235/235 [==============================] - 40s 170ms/step - loss: 3.8374 - val_loss: 3.5990\n",
      "Epoch 19/60\n",
      "235/235 [==============================] - 40s 169ms/step - loss: 3.6155 - val_loss: 3.4254\n",
      "Epoch 20/60\n",
      "235/235 [==============================] - 40s 171ms/step - loss: 3.4155 - val_loss: 3.1833\n",
      "Epoch 21/60\n",
      "235/235 [==============================] - 39s 166ms/step - loss: 3.2639 - val_loss: 3.1247\n",
      "Epoch 22/60\n",
      "235/235 [==============================] - 40s 171ms/step - loss: 3.1268 - val_loss: 3.0579\n",
      "Epoch 23/60\n",
      "235/235 [==============================] - 39s 167ms/step - loss: 2.9945 - val_loss: 2.8480\n",
      "Epoch 24/60\n",
      "235/235 [==============================] - 40s 169ms/step - loss: 2.8613 - val_loss: 2.8116\n",
      "Epoch 25/60\n",
      "235/235 [==============================] - 39s 167ms/step - loss: 2.7709 - val_loss: 2.7945\n",
      "Epoch 26/60\n",
      "235/235 [==============================] - 41s 173ms/step - loss: 2.6884 - val_loss: 2.5734\n",
      "Epoch 27/60\n",
      "235/235 [==============================] - 39s 167ms/step - loss: 2.5970 - val_loss: 2.5457\n",
      "Epoch 28/60\n",
      "235/235 [==============================] - 39s 167ms/step - loss: 2.5185 - val_loss: 2.4478\n",
      "Epoch 29/60\n",
      "235/235 [==============================] - 40s 171ms/step - loss: 2.4324 - val_loss: 2.4754\n",
      "Epoch 30/60\n",
      "235/235 [==============================] - 40s 170ms/step - loss: 2.3794 - val_loss: 2.7668\n",
      "Epoch 31/60\n",
      "235/235 [==============================] - 40s 169ms/step - loss: 2.3195 - val_loss: 2.4016\n",
      "Epoch 32/60\n",
      "235/235 [==============================] - 41s 174ms/step - loss: 2.2553 - val_loss: 2.3188\n",
      "Epoch 33/60\n",
      "235/235 [==============================] - 41s 175ms/step - loss: 2.1984 - val_loss: 2.3011\n",
      "Epoch 34/60\n",
      "235/235 [==============================] - 40s 171ms/step - loss: 2.1508 - val_loss: 2.2688\n",
      "Epoch 35/60\n",
      "235/235 [==============================] - 41s 176ms/step - loss: 2.1006 - val_loss: 2.2134\n",
      "Epoch 36/60\n",
      "235/235 [==============================] - 42s 180ms/step - loss: 2.0493 - val_loss: 2.2197\n",
      "Epoch 37/60\n",
      "235/235 [==============================] - 41s 176ms/step - loss: 1.9981 - val_loss: 2.2006\n",
      "Epoch 38/60\n",
      "235/235 [==============================] - 41s 174ms/step - loss: 1.9529 - val_loss: 2.2034\n",
      "Epoch 39/60\n",
      "235/235 [==============================] - 41s 175ms/step - loss: 1.9242 - val_loss: 2.1265\n",
      "Epoch 40/60\n",
      "235/235 [==============================] - 41s 175ms/step - loss: 1.8835 - val_loss: 2.1378\n",
      "Epoch 41/60\n",
      "235/235 [==============================] - 41s 173ms/step - loss: 1.8401 - val_loss: 2.0822\n",
      "Epoch 42/60\n",
      "235/235 [==============================] - 40s 172ms/step - loss: 1.8063 - val_loss: 2.1147\n",
      "Epoch 43/60\n",
      "235/235 [==============================] - 41s 175ms/step - loss: 1.7722 - val_loss: 2.1002\n",
      "Epoch 44/60\n",
      "235/235 [==============================] - 40s 172ms/step - loss: 1.7329 - val_loss: 2.1237\n",
      "Epoch 45/60\n",
      "235/235 [==============================] - 41s 173ms/step - loss: 1.7060 - val_loss: 2.0781\n",
      "Epoch 46/60\n",
      "235/235 [==============================] - 40s 172ms/step - loss: 1.6703 - val_loss: 2.0547\n",
      "Epoch 47/60\n",
      "235/235 [==============================] - 40s 172ms/step - loss: 1.6441 - val_loss: 2.0755\n",
      "Epoch 48/60\n",
      "235/235 [==============================] - 40s 170ms/step - loss: 1.6084 - val_loss: 2.0746\n",
      "Epoch 49/60\n",
      "235/235 [==============================] - 40s 172ms/step - loss: 1.5732 - val_loss: 2.0325\n",
      "Epoch 50/60\n",
      "235/235 [==============================] - 41s 172ms/step - loss: 1.5415 - val_loss: 2.0371\n",
      "Epoch 51/60\n",
      "235/235 [==============================] - 40s 171ms/step - loss: 1.5264 - val_loss: 2.0254\n",
      "Epoch 52/60\n",
      "235/235 [==============================] - 40s 171ms/step - loss: 1.4890 - val_loss: 2.0193\n",
      "Epoch 53/60\n",
      "235/235 [==============================] - 40s 170ms/step - loss: 1.4523 - val_loss: 2.0347\n",
      "Epoch 54/60\n",
      "235/235 [==============================] - 41s 175ms/step - loss: 1.4516 - val_loss: 2.0119\n",
      "Epoch 55/60\n",
      "235/235 [==============================] - 40s 172ms/step - loss: 1.4011 - val_loss: 2.0030\n",
      "Epoch 56/60\n",
      "235/235 [==============================] - 40s 172ms/step - loss: 1.3788 - val_loss: 2.0147\n",
      "Epoch 57/60\n",
      "235/235 [==============================] - 40s 172ms/step - loss: 1.3496 - val_loss: 2.0443\n",
      "Epoch 58/60\n",
      "235/235 [==============================] - 40s 170ms/step - loss: 1.3252 - val_loss: 2.0289\n",
      "Epoch 59/60\n",
      "235/235 [==============================] - 40s 171ms/step - loss: 1.2975 - val_loss: 2.0309\n",
      "Epoch 60/60\n",
      "235/235 [==============================] - 40s 172ms/step - loss: 1.2825 - val_loss: 2.0506\n"
     ]
    },
    {
     "data": {
      "text/plain": [
       "<keras.callbacks.History at 0x7f53f06ae590>"
      ]
     },
     "execution_count": 25,
     "metadata": {},
     "output_type": "execute_result"
    }
   ],
   "source": [
    "model_final.fit(x = [train_x, train_y, train_input_len, train_name_len], y=train_output, validation_data = ([val_x, val_y, val_input_len, val_name_len], val_output), epochs=60, batch_size=128)"
   ]
  },
  {
   "cell_type": "markdown",
   "metadata": {},
   "source": [
    "## Performance on the validation dataset\n",
    "\n",
    "We will now use our trained model on the validation dataset to measure the accuracy of our model."
   ]
  },
  {
   "cell_type": "code",
   "execution_count": 26,
   "metadata": {
    "execution": {
     "iopub.execute_input": "2022-11-16T04:15:53.148489Z",
     "iopub.status.busy": "2022-11-16T04:15:53.148057Z",
     "iopub.status.idle": "2022-11-16T04:15:57.310452Z",
     "shell.execute_reply": "2022-11-16T04:15:57.309278Z",
     "shell.execute_reply.started": "2022-11-16T04:15:53.148446Z"
    }
   },
   "outputs": [
    {
     "name": "stderr",
     "output_type": "stream",
     "text": [
      "2022-11-16 04:15:53.206733: W tensorflow/core/framework/cpu_allocator_impl.cc:80] Allocation of 196608000 exceeds 10% of free system memory.\n",
      "2022-11-16 04:15:53.313834: W tensorflow/core/framework/cpu_allocator_impl.cc:80] Allocation of 196608000 exceeds 10% of free system memory.\n"
     ]
    },
    {
     "name": "stdout",
     "output_type": "stream",
     "text": [
      "Correct characters predicted: 81.75%\n",
      "Correct words predicted: 67.73%\n"
     ]
    }
   ],
   "source": [
    "preds = model.predict(val_x)\n",
    "decoded = K.get_value(K.ctc_decode(preds, input_length=np.ones(preds.shape[0])*preds.shape[1], greedy=True)[0][0])\n",
    "\n",
    "prediction = []\n",
    "for i in range(val_size):\n",
    "    prediction.append(num_to_name(decoded[i]))\n",
    "    \n",
    "y_true = val_name.loc[0:val_size, 'IDENTITY']\n",
    "correct_char = 0\n",
    "total_char = 0\n",
    "correct = 0\n",
    "\n",
    "for i in range(val_size):\n",
    "    pr = prediction[i]\n",
    "    tr = y_true[i]\n",
    "    total_char += len(tr)\n",
    "    \n",
    "    for j in range(min(len(tr), len(pr))):\n",
    "        if tr[j] == pr[j]:\n",
    "            correct_char += 1\n",
    "            \n",
    "    if pr == tr:\n",
    "        correct += 1\n",
    "        \n",
    "print('Correct characters predicted: %.2f%%' %(correct_char*100/total_char))\n",
    "print('Correct words predicted: %.2f%%' %(correct*100/val_size))"
   ]
  },
  {
   "cell_type": "markdown",
   "metadata": {},
   "source": [
    "## Examples of prediction on test set\n",
    "\n",
    "We will visualize some examples of our model's prediction on test dataset"
   ]
  },
  {
   "cell_type": "code",
   "execution_count": 27,
   "metadata": {
    "execution": {
     "iopub.execute_input": "2022-11-16T04:16:01.478419Z",
     "iopub.status.busy": "2022-11-16T04:16:01.477279Z",
     "iopub.status.idle": "2022-11-16T04:16:02.712281Z",
     "shell.execute_reply": "2022-11-16T04:16:02.711173Z",
     "shell.execute_reply.started": "2022-11-16T04:16:01.478367Z"
    }
   },
   "outputs": [
    {
     "data": {
      "image/png": "[encoded data removed]",
      "text/plain": [
       "<Figure size 1080x720 with 6 Axes>"
      ]
     },
     "metadata": {
      "needs_background": "light"
     },
     "output_type": "display_data"
    }
   ],
   "source": [
    "plt.figure(figsize=(15,10))\n",
    "\n",
    "for i in range(6):\n",
    "    ax = plt.subplot(2, 3, i+1)\n",
    "    img_dir = '/kaggle/input/handwriting-recognition/test_v2/test/'+test_name.loc[i, 'FILENAME']\n",
    "    image = cv2.imread(img_dir, cv2.IMREAD_GRAYSCALE)\n",
    "    plt.imshow(image, cmap = 'gray')\n",
    "    \n",
    "    image = image_processing(image)\n",
    "    image = image/255.\n",
    "    pred = model.predict(image.reshape(1, 256, 64, 1))\n",
    "    decoded = K.get_value(K.ctc_decode(pred, input_length = np.ones(pred.shape[0])*pred.shape[1], greedy=True)[0][0])\n",
    "    plt.title(num_to_name(decoded[0]), fontsize=12)\n",
    "    plt.axis('off')\n",
    "    \n",
    "plt.subplots_adjust(wspace=0.2, hspace=-0.8)"
   ]
  },
  {
   "cell_type": "code",
   "execution_count": null,
   "metadata": {},
   "outputs": [],
   "source": [
    "model.save_weights(\"handwriting_model.weights.h5\")"
   ]
  }
 ],
 "metadata": {
  "kernelspec": {
   "display_name": "Python 3 (ipykernel)",
   "language": "python",
   "name": "python3"
  },
  "language_info": {
   "codemirror_mode": {
    "name": "ipython",
    "version": 3
   },
   "file_extension": ".py",
   "mimetype": "text/x-python",
   "name": "python",
   "nbconvert_exporter": "python",
   "pygments_lexer": "ipython3",
   "version": "3.12.4"
  }
 },
 "nbformat": 4,
 "nbformat_minor": 4
}
